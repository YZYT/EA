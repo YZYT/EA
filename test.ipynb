{
 "cells": [
  {
   "cell_type": "code",
   "execution_count": 11,
   "metadata": {},
   "outputs": [],
   "source": [
    "from configs import lr_configs"
   ]
  },
  {
   "cell_type": "code",
   "execution_count": 3,
   "metadata": {},
   "outputs": [
    {
     "data": {
      "text/plain": [
       "{'lr': 0.1, 'momentum': 0.9, 'nesterov': True, 'weight_decay': 0.0005}"
      ]
     },
     "execution_count": 3,
     "metadata": {},
     "output_type": "execute_result"
    }
   ],
   "source": [
    "lr_config.SGD_config['optimizer']"
   ]
  },
  {
   "cell_type": "code",
   "execution_count": 9,
   "metadata": {},
   "outputs": [],
   "source": [
    "def gg(lr, momentum, weight_decay, nesterov):\n",
    "    print(lr, momentum, nesterov, weight_decay)"
   ]
  },
  {
   "cell_type": "code",
   "execution_count": 10,
   "metadata": {},
   "outputs": [
    {
     "name": "stdout",
     "output_type": "stream",
     "text": [
      "0.1 0.9 True 0.0005\n"
     ]
    }
   ],
   "source": [
    "gg(**getattr(lr_config, 'SGD_config')['optimizer'])"
   ]
  },
  {
   "cell_type": "code",
   "execution_count": 7,
   "metadata": {},
   "outputs": [
    {
     "data": {
      "text/plain": [
       "{'optimizer': {'lr': 0.1,\n",
       "  'momentum': 0.9,\n",
       "  'nesterov': True,\n",
       "  'weight_decay': 0.0005},\n",
       " 'scheduler': {'steps': [60, 120, 160], 'gamma': 0.2}}"
      ]
     },
     "execution_count": 7,
     "metadata": {},
     "output_type": "execute_result"
    }
   ],
   "source": [
    "getattr(lr_config, 'SGD_config')"
   ]
  },
  {
   "cell_type": "code",
   "execution_count": 13,
   "metadata": {},
   "outputs": [
    {
     "data": {
      "text/plain": [
       "2"
      ]
     },
     "execution_count": 13,
     "metadata": {},
     "output_type": "execute_result"
    }
   ],
   "source": [
    "lr_config = getattr(lr_configs, 'SGD_config')\n",
    "\n",
    "len(lr_config['scheduler'])"
   ]
  },
  {
   "cell_type": "code",
   "execution_count": 1,
   "metadata": {},
   "outputs": [],
   "source": [
    "\n",
    "from models.resnet import ResNet18"
   ]
  },
  {
   "cell_type": "code",
   "execution_count": 2,
   "metadata": {},
   "outputs": [],
   "source": [
    "net = ResNet18()"
   ]
  },
  {
   "cell_type": "code",
   "execution_count": 8,
   "metadata": {},
   "outputs": [
    {
     "name": "stdout",
     "output_type": "stream",
     "text": [
      "Parameter containing:\n",
      "tensor([[[[ 0.0051, -0.1889,  0.0006],\n",
      "          [ 0.0151,  0.1122,  0.0181],\n",
      "          [-0.1387,  0.1373, -0.0519]],\n",
      "\n",
      "         [[-0.1033, -0.1595,  0.0464],\n",
      "          [-0.0515,  0.0293, -0.0605],\n",
      "          [ 0.1006,  0.1088,  0.1570]],\n",
      "\n",
      "         [[ 0.1047, -0.0387,  0.0175],\n",
      "          [ 0.1835,  0.1667,  0.1760],\n",
      "          [-0.1278,  0.1897, -0.0054]]],\n",
      "\n",
      "\n",
      "        [[[ 0.1788,  0.0248, -0.1410],\n",
      "          [-0.0963,  0.1425,  0.1009],\n",
      "          [ 0.1022, -0.1750, -0.0515]],\n",
      "\n",
      "         [[-0.1834, -0.0564, -0.1581],\n",
      "          [ 0.1299, -0.0548, -0.0596],\n",
      "          [-0.0152,  0.1428,  0.0232]],\n",
      "\n",
      "         [[-0.0625, -0.0177, -0.0866],\n",
      "          [ 0.1619, -0.1640, -0.1206],\n",
      "          [-0.0936, -0.1693, -0.1096]]],\n",
      "\n",
      "\n",
      "        [[[ 0.1718, -0.0304,  0.1897],\n",
      "          [-0.1236, -0.0768, -0.0439],\n",
      "          [-0.1767, -0.1050, -0.0047]],\n",
      "\n",
      "         [[-0.1341,  0.1797, -0.1679],\n",
      "          [ 0.1676,  0.0643, -0.1615],\n",
      "          [-0.0115,  0.1057, -0.0145]],\n",
      "\n",
      "         [[ 0.1548,  0.1200, -0.0710],\n",
      "          [-0.0346, -0.0699, -0.1149],\n",
      "          [ 0.1087, -0.0886,  0.1021]]],\n",
      "\n",
      "\n",
      "        ...,\n",
      "\n",
      "\n",
      "        [[[ 0.0353, -0.1120, -0.1845],\n",
      "          [-0.1349,  0.0438, -0.1569],\n",
      "          [ 0.1214, -0.0678,  0.1467]],\n",
      "\n",
      "         [[ 0.0909, -0.1538, -0.0368],\n",
      "          [-0.1812, -0.1639,  0.0266],\n",
      "          [-0.0499, -0.0883, -0.0730]],\n",
      "\n",
      "         [[ 0.0033, -0.0461, -0.1264],\n",
      "          [ 0.0424, -0.1589,  0.0474],\n",
      "          [ 0.0895,  0.0847, -0.0700]]],\n",
      "\n",
      "\n",
      "        [[[ 0.0931, -0.0324,  0.0803],\n",
      "          [ 0.0310, -0.0493,  0.1391],\n",
      "          [ 0.1690, -0.0564, -0.1821]],\n",
      "\n",
      "         [[ 0.1078, -0.1319,  0.0798],\n",
      "          [ 0.1880,  0.1165,  0.1049],\n",
      "          [-0.1848, -0.1487, -0.0038]],\n",
      "\n",
      "         [[ 0.1564, -0.0259, -0.0035],\n",
      "          [-0.1629,  0.0631,  0.0630],\n",
      "          [ 0.0783,  0.1604,  0.0004]]],\n",
      "\n",
      "\n",
      "        [[[ 0.1443,  0.0727,  0.1660],\n",
      "          [-0.1755, -0.1063, -0.1390],\n",
      "          [-0.0094,  0.0471,  0.0824]],\n",
      "\n",
      "         [[-0.1432,  0.1549,  0.0706],\n",
      "          [-0.0951,  0.0431,  0.1652],\n",
      "          [-0.0870,  0.0685, -0.0589]],\n",
      "\n",
      "         [[-0.0830, -0.0042,  0.1382],\n",
      "          [ 0.1232,  0.1314, -0.1862],\n",
      "          [ 0.1421,  0.0179, -0.1709]]]], requires_grad=True)\n"
     ]
    }
   ],
   "source": [
    "for p in net.parameters():\n",
    "    print(p)\n",
    "    break"
   ]
  },
  {
   "cell_type": "code",
   "execution_count": null,
   "metadata": {},
   "outputs": [],
   "source": []
  }
 ],
 "metadata": {
  "interpreter": {
   "hash": "ecf5722fdaf1897a315d257d89d94520bfcaa453217d5becf09b39e73618b0de"
  },
  "kernelspec": {
   "display_name": "Python 3.9.5 64-bit ('base': conda)",
   "name": "python3"
  },
  "language_info": {
   "codemirror_mode": {
    "name": "ipython",
    "version": 3
   },
   "file_extension": ".py",
   "mimetype": "text/x-python",
   "name": "python",
   "nbconvert_exporter": "python",
   "pygments_lexer": "ipython3",
   "version": "3.9.5"
  },
  "orig_nbformat": 4
 },
 "nbformat": 4,
 "nbformat_minor": 2
}
